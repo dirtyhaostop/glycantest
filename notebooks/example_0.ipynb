{
 "cells": [
  {
   "cell_type": "markdown",
   "id": "ab32cfa9-ac5b-453f-b27a-3957d38c8137",
   "metadata": {},
   "source": [
    "### Part 0:\n",
    "- vmd command:\n",
    "   - segid SUBA\n",
    "   - segid SUBA and resid 50\n",
    "- ![](../images/pic1.png)\n",
    "\n",
    "- vmd command:\n",
    "   - resid 1 or (resid 2 and name C1)\n",
    "- ![](../images/pic2.png)"
   ]
  },
  {
   "cell_type": "code",
   "execution_count": 1,
   "id": "96c513b4-e2fa-42cf-8316-9b931c8ef888",
   "metadata": {},
   "outputs": [],
   "source": [
    "from os import path\n",
    "import numpy as np\n",
    "from glycantool import PDB\n",
    "rootfolder = '/home/yizaochen/codes/glycantest'"
   ]
  },
  {
   "cell_type": "markdown",
   "id": "c9fecbb9-27a4-46fc-9ce6-bb30e8ed2f16",
   "metadata": {},
   "source": [
    "### Part 1-0: Read Protein PDB"
   ]
  },
  {
   "cell_type": "code",
   "execution_count": 2,
   "id": "a1872e64-2e70-4071-a145-a5abc646fe8b",
   "metadata": {},
   "outputs": [],
   "source": [
    "pdb_in = path.join(rootfolder, 'glycan', 'mers_a_5x59.pdb')\n",
    "mers_a = PDB.PDBReader(pdb_in, skip_header=1, skip_footer=1, segid_exist=True)"
   ]
  },
  {
   "cell_type": "markdown",
   "id": "3b43c379-4a33-4c4e-be8e-9312b70f5b2c",
   "metadata": {},
   "source": [
    "### Part 1-1: Get ND2 and HD21"
   ]
  },
  {
   "cell_type": "code",
   "execution_count": 3,
   "id": "ed77515f-c3d9-4622-817f-a0eb1623829e",
   "metadata": {},
   "outputs": [],
   "source": [
    "atom_wanted = dict()\n",
    "for atom in mers_a.atomgroup:\n",
    "    if (atom.resid == 50) & (atom.resname == 'ASN') & (atom.name == 'ND2'):\n",
    "        atom_wanted['ND2'] = atom\n",
    "    elif (atom.resid == 50) & (atom.resname == 'ASN') & (atom.name == 'HD21'):\n",
    "        atom_wanted['HD21'] = atom"
   ]
  },
  {
   "cell_type": "markdown",
   "id": "2779a604-d0b7-4d70-9f02-3aec6e84e102",
   "metadata": {},
   "source": [
    "### Part 1-2: Define $\\vec{v}_1 = \\vec{r}_{\\mathrm{HD21}} - \\vec{r}_{\\mathrm{ND2}}$"
   ]
  },
  {
   "cell_type": "code",
   "execution_count": 4,
   "id": "07a2a8b4-ce91-4033-9e10-2f873ef9d782",
   "metadata": {},
   "outputs": [],
   "source": [
    "v1 = np.zeros(3)\n",
    "v1[0] = atom_wanted['HD21'].x - atom_wanted['ND2'].x\n",
    "v1[1] = atom_wanted['HD21'].y - atom_wanted['ND2'].y\n",
    "v1[2] = atom_wanted['HD21'].z - atom_wanted['ND2'].z"
   ]
  },
  {
   "cell_type": "markdown",
   "id": "4737ccd6-11dc-4713-92b0-8a480ccc12e5",
   "metadata": {},
   "source": [
    "### Part 2-0: Read Sugar PDB\n",
    "- `cp man9.pdb man9.pdbreader.pdb`\n",
    "- `vim man9.pdbreader.pdb` delete TER"
   ]
  },
  {
   "cell_type": "code",
   "execution_count": 5,
   "id": "e2f5e03f-d49f-4ce8-8584-1c525294be58",
   "metadata": {},
   "outputs": [],
   "source": [
    "pdb_in = path.join(rootfolder, 'glycan', 'man9.pdbreader.pdb')\n",
    "m9 = PDB.PDBReader(pdb_in, skip_header=1, skip_footer=1, segid_exist=False)"
   ]
  },
  {
   "cell_type": "markdown",
   "id": "ffbb8f22-cb41-4d53-a0b4-733a3f514cfb",
   "metadata": {},
   "source": [
    "### Part 2-1: Get O1 and C1"
   ]
  },
  {
   "cell_type": "code",
   "execution_count": 6,
   "id": "216dbf70-a822-486a-a9a4-93c3d6ab7b7b",
   "metadata": {},
   "outputs": [],
   "source": [
    "atom_wanted_m9 = dict()\n",
    "for atom in m9.atomgroup:\n",
    "    if (atom.resid == 1) & (atom.resname == 'ROH') & (atom.name == 'O1'):\n",
    "        atom_wanted_m9['O1'] = atom\n",
    "    elif (atom.resid == 2) & (atom.resname == '4YB') & (atom.name == 'C1'):\n",
    "        atom_wanted_m9['C1'] = atom"
   ]
  },
  {
   "cell_type": "code",
   "execution_count": 7,
   "id": "e8f02c53-c1fc-4cd2-baf1-480c2d981ac8",
   "metadata": {},
   "outputs": [
    {
     "data": {
      "text/plain": [
       "{'O1': x: -5.484  y: 5.892  z: 1.199, 'C1': x: -5.010  y: 4.588  z: 0.853}"
      ]
     },
     "execution_count": 7,
     "metadata": {},
     "output_type": "execute_result"
    }
   ],
   "source": [
    "atom_wanted_m9"
   ]
  },
  {
   "cell_type": "markdown",
   "id": "8b9a9aef-965b-42ab-9d98-79d5ac6646f3",
   "metadata": {},
   "source": [
    "### Part 2-2: Define $\\vec{v}_2 = \\vec{r}_{\\mathrm{C1}} - \\vec{r}_{\\mathrm{O1}}$"
   ]
  },
  {
   "cell_type": "code",
   "execution_count": 8,
   "id": "4d14eb02-5bbd-4494-984f-f3c90b1a135c",
   "metadata": {},
   "outputs": [],
   "source": [
    "v2 = np.zeros(3)\n",
    "v2[0] = atom_wanted_m9['C1'].x - atom_wanted_m9['O1'].x\n",
    "v2[1] = atom_wanted_m9['C1'].y - atom_wanted_m9['O1'].y\n",
    "v2[2] = atom_wanted_m9['C1'].z - atom_wanted_m9['O1'].z"
   ]
  },
  {
   "cell_type": "markdown",
   "id": "f73b667a-9b9d-4ad3-8c84-c5c2050eca12",
   "metadata": {},
   "source": [
    "### Part 3: Translation sugar: Move O1's position to ND2's position\n",
    "### Define $\\vec{t}_1 = \\vec{r}_{\\mathrm{ND2}} - \\vec{r}_{\\mathrm{O1}}$"
   ]
  },
  {
   "cell_type": "code",
   "execution_count": 9,
   "id": "9e04c1d9-2272-4ccd-a560-3d383bbcb416",
   "metadata": {},
   "outputs": [],
   "source": [
    "t1 = np.zeros(3)\n",
    "t1[0] = atom_wanted['ND2'].x - atom_wanted_m9['O1'].x\n",
    "t1[1] = atom_wanted['ND2'].y - atom_wanted_m9['O1'].y\n",
    "t1[2] = atom_wanted['ND2'].z - atom_wanted_m9['O1'].z"
   ]
  },
  {
   "cell_type": "markdown",
   "id": "89e54279-bd9f-424f-bb0b-d69cdb4e8f2c",
   "metadata": {},
   "source": [
    "### do translation and output PDB"
   ]
  },
  {
   "cell_type": "code",
   "execution_count": 11,
   "id": "205f042c-2fde-47f7-8ccb-feb3cea3a147",
   "metadata": {},
   "outputs": [],
   "source": [
    "atomgroup_after_translation = list()\n",
    "for atom in m9.atomgroup:\n",
    "    atom.x += t1[0]\n",
    "    atom.y += t1[1]\n",
    "    atom.z += t1[2]\n",
    "    atomgroup_after_translation.append(atom)"
   ]
  },
  {
   "cell_type": "code",
   "execution_count": 12,
   "id": "e7794929-ac24-46ec-b06f-47470f1efe74",
   "metadata": {},
   "outputs": [
    {
     "name": "stdout",
     "output_type": "stream",
     "text": [
      "Write PDB: /home/yizaochen/codes/glycantest/glycan/man9.after_translation.pdb\n"
     ]
    }
   ],
   "source": [
    "pdb_out = path.join(rootfolder, 'glycan', 'man9.after_translation.pdb')\n",
    "m9_after_translation = PDB.PDBWriter(pdb_out, atomgroup_after_translation)\n",
    "m9_after_translation.write_pdb()"
   ]
  },
  {
   "cell_type": "markdown",
   "id": "dcb72275-dd51-4013-8a4c-a865b76da888",
   "metadata": {},
   "source": [
    "### Merge"
   ]
  },
  {
   "cell_type": "code",
   "execution_count": 16,
   "id": "583d1fe9-8afa-45cb-82ab-5b58cbe3526f",
   "metadata": {},
   "outputs": [
    {
     "name": "stdout",
     "output_type": "stream",
     "text": [
      "cp /home/yizaochen/codes/glycantest/glycan/mers_a_5x59.pdb /home/yizaochen/codes/glycantest/glycan/mers_a_5x59.merge_trans.pdb\n",
      "vim /home/yizaochen/codes/glycantest/glycan/mers_a_5x59.merge_trans.pdb\n",
      ":read /home/yizaochen/codes/glycantest/glycan/man9.after_translation.pdb\n",
      "Use vim to add M9 at the end of Sugar\n",
      "Then, delete target atoms\n"
     ]
    }
   ],
   "source": [
    "pdb1 = path.join(rootfolder, 'glycan', 'mers_a_5x59.pdb')\n",
    "pdb2 = path.join(rootfolder, 'glycan', 'mers_a_5x59.merge_trans.pdb')\n",
    "pdb3 = path.join(rootfolder, 'glycan', 'man9.after_translation.pdb')\n",
    "print(f'cp {pdb1} {pdb2}')\n",
    "print(f'vim {pdb2}')\n",
    "print(f':read {pdb3}')\n",
    "print('Use vim to add M9 at the end of Sugar')\n",
    "print('Then, delete target atoms')"
   ]
  },
  {
   "cell_type": "markdown",
   "id": "5677520e-08b5-411d-9be2-fe8accd8f92d",
   "metadata": {},
   "source": [
    "### Use VMD to check"
   ]
  },
  {
   "cell_type": "code",
   "execution_count": 17,
   "id": "a9639e97-00fb-4a50-9165-7120fd3210d9",
   "metadata": {},
   "outputs": [
    {
     "name": "stdout",
     "output_type": "stream",
     "text": [
      "vmd -pdb mers_a_5x59.merge_trans.pdb\n",
      "segid SUBA\n"
     ]
    }
   ],
   "source": [
    "print('vmd -pdb mers_a_5x59.merge_trans.pdb')\n",
    "print('segid SUBA')"
   ]
  },
  {
   "cell_type": "code",
   "execution_count": null,
   "id": "23d20f0f-a685-4aa6-a0e2-823f3c7efec9",
   "metadata": {},
   "outputs": [],
   "source": []
  }
 ],
 "metadata": {
  "kernelspec": {
   "display_name": "Python 3 (ipykernel)",
   "language": "python",
   "name": "python3"
  },
  "language_info": {
   "codemirror_mode": {
    "name": "ipython",
    "version": 3
   },
   "file_extension": ".py",
   "mimetype": "text/x-python",
   "name": "python",
   "nbconvert_exporter": "python",
   "pygments_lexer": "ipython3",
   "version": "3.8.11"
  }
 },
 "nbformat": 4,
 "nbformat_minor": 5
}
