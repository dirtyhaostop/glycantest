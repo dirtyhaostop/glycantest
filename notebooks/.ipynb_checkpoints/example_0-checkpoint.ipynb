{
 "cells": [
  {
   "cell_type": "markdown",
   "id": "ab32cfa9-ac5b-453f-b27a-3957d38c8137",
   "metadata": {},
   "source": [
    "### Part 0:\n",
    "- vmd command:\n",
    "   - segid SUBA\n",
    "   - segid SUBA and resid 50\n",
    "- ![](../images/pic1.png)\n",
    "\n",
    "- vmd command:\n",
    "   - resid 1 or (resid 2 and name C1)\n",
    "- ![](../images/pic2.png)"
   ]
  },
  {
   "cell_type": "code",
   "execution_count": 1,
   "id": "96c513b4-e2fa-42cf-8316-9b931c8ef888",
   "metadata": {},
   "outputs": [],
   "source": [
    "from os import path\n",
    "import numpy as np\n",
    "from glycantool import PDB, rotation\n",
    "rootfolder = '/home/yizaochen/codes/glycantest'"
   ]
  },
  {
   "cell_type": "markdown",
   "id": "c9fecbb9-27a4-46fc-9ce6-bb30e8ed2f16",
   "metadata": {},
   "source": [
    "### Part 1-0: Read Protein PDB"
   ]
  },
  {
   "cell_type": "code",
   "execution_count": 2,
   "id": "a1872e64-2e70-4071-a145-a5abc646fe8b",
   "metadata": {},
   "outputs": [],
   "source": [
    "pdb_in = path.join(rootfolder, 'glycan', 'mers_a_5x59.pdb')\n",
    "mers_a = PDB.PDBReader(pdb_in, skip_header=1, skip_footer=1, segid_exist=True)"
   ]
  },
  {
   "cell_type": "markdown",
   "id": "3b43c379-4a33-4c4e-be8e-9312b70f5b2c",
   "metadata": {},
   "source": [
    "### Part 1-1: Get ND2 and HD21"
   ]
  },
  {
   "cell_type": "code",
   "execution_count": 3,
   "id": "ed77515f-c3d9-4622-817f-a0eb1623829e",
   "metadata": {},
   "outputs": [],
   "source": [
    "atom_wanted = dict()\n",
    "for atom in mers_a.atomgroup:\n",
    "    if (atom.resid == 50) & (atom.resname == 'ASN') & (atom.name == 'ND2'):\n",
    "        atom_wanted['ND2'] = atom\n",
    "    elif (atom.resid == 50) & (atom.resname == 'ASN') & (atom.name == 'HD21'):\n",
    "        atom_wanted['HD21'] = atom"
   ]
  },
  {
   "cell_type": "code",
   "execution_count": 4,
   "id": "ae53eada-564d-476a-b320-d4622f25118a",
   "metadata": {},
   "outputs": [
    {
     "data": {
      "text/plain": [
       "{'ND2': x: 19.605  y: -29.712  z: 0.196,\n",
       " 'HD21': x: 20.053  y: -29.329  z: -0.607}"
      ]
     },
     "execution_count": 4,
     "metadata": {},
     "output_type": "execute_result"
    }
   ],
   "source": [
    "atom_wanted"
   ]
  },
  {
   "cell_type": "markdown",
   "id": "2779a604-d0b7-4d70-9f02-3aec6e84e102",
   "metadata": {},
   "source": [
    "### Part 1-2: Define $\\vec{v}_1 = \\vec{r}_{\\mathrm{HD21}} - \\vec{r}_{\\mathrm{ND2}}$"
   ]
  },
  {
   "cell_type": "code",
   "execution_count": 5,
   "id": "07a2a8b4-ce91-4033-9e10-2f873ef9d782",
   "metadata": {},
   "outputs": [],
   "source": [
    "v1 = np.zeros(3)\n",
    "v1[0] = atom_wanted['HD21'].x - atom_wanted['ND2'].x\n",
    "v1[1] = atom_wanted['HD21'].y - atom_wanted['ND2'].y\n",
    "v1[2] = atom_wanted['HD21'].z - atom_wanted['ND2'].z"
   ]
  },
  {
   "cell_type": "markdown",
   "id": "4737ccd6-11dc-4713-92b0-8a480ccc12e5",
   "metadata": {},
   "source": [
    "### Part 2-0: Read Sugar PDB\n",
    "- `cp man9.pdb man9.pdbreader.pdb`\n",
    "- `vim man9.pdbreader.pdb` delete TER"
   ]
  },
  {
   "cell_type": "code",
   "execution_count": 14,
   "id": "e2f5e03f-d49f-4ce8-8584-1c525294be58",
   "metadata": {},
   "outputs": [],
   "source": [
    "pdb_in = path.join(rootfolder, 'glycan', 'man9.pdbreader.pdb')\n",
    "m9 = PDB.PDBReader(pdb_in, skip_header=1, skip_footer=1, segid_exist=False)"
   ]
  },
  {
   "cell_type": "code",
   "execution_count": 15,
   "id": "06f0dc08-a7f4-421a-9a2b-376ba2274ad8",
   "metadata": {},
   "outputs": [],
   "source": [
    "segid = 'M9XX'\n",
    "for atom in m9.atomgroup:\n",
    "    atom.set_segid(segid)"
   ]
  },
  {
   "cell_type": "markdown",
   "id": "ffbb8f22-cb41-4d53-a0b4-733a3f514cfb",
   "metadata": {},
   "source": [
    "### Part 2-1: Get O1 and C1"
   ]
  },
  {
   "cell_type": "code",
   "execution_count": 16,
   "id": "216dbf70-a822-486a-a9a4-93c3d6ab7b7b",
   "metadata": {},
   "outputs": [],
   "source": [
    "atom_wanted_m9 = dict()\n",
    "for atom in m9.atomgroup:\n",
    "    if (atom.resid == 1) & (atom.resname == 'ROH') & (atom.name == 'O1'):\n",
    "        atom_wanted_m9['O1'] = atom\n",
    "    elif (atom.resid == 2) & (atom.resname == '4YB') & (atom.name == 'C1'):\n",
    "        atom_wanted_m9['C1'] = atom"
   ]
  },
  {
   "cell_type": "code",
   "execution_count": 17,
   "id": "e8f02c53-c1fc-4cd2-baf1-480c2d981ac8",
   "metadata": {},
   "outputs": [
    {
     "data": {
      "text/plain": [
       "{'O1': x: -5.484  y: 5.892  z: 1.199, 'C1': x: -5.010  y: 4.588  z: 0.853}"
      ]
     },
     "execution_count": 17,
     "metadata": {},
     "output_type": "execute_result"
    }
   ],
   "source": [
    "atom_wanted_m9"
   ]
  },
  {
   "cell_type": "markdown",
   "id": "8b9a9aef-965b-42ab-9d98-79d5ac6646f3",
   "metadata": {},
   "source": [
    "### Part 2-2: Define $\\vec{v}_2 = \\vec{r}_{\\mathrm{C1}} - \\vec{r}_{\\mathrm{O1}}$"
   ]
  },
  {
   "cell_type": "code",
   "execution_count": 18,
   "id": "4d14eb02-5bbd-4494-984f-f3c90b1a135c",
   "metadata": {},
   "outputs": [],
   "source": [
    "v2 = np.zeros(3)\n",
    "v2[0] = atom_wanted_m9['C1'].x - atom_wanted_m9['O1'].x\n",
    "v2[1] = atom_wanted_m9['C1'].y - atom_wanted_m9['O1'].y\n",
    "v2[2] = atom_wanted_m9['C1'].z - atom_wanted_m9['O1'].z"
   ]
  },
  {
   "cell_type": "markdown",
   "id": "f73b667a-9b9d-4ad3-8c84-c5c2050eca12",
   "metadata": {},
   "source": [
    "### Part 3: Translation sugar: Move O1's position to ND2's position\n",
    "#### Define $\\vec{t}_1 = \\vec{r}_{\\mathrm{ND2}} - \\vec{r}_{\\mathrm{O1}}$"
   ]
  },
  {
   "cell_type": "code",
   "execution_count": 19,
   "id": "9e04c1d9-2272-4ccd-a560-3d383bbcb416",
   "metadata": {},
   "outputs": [],
   "source": [
    "t1 = np.zeros(3)\n",
    "t1[0] = atom_wanted['ND2'].x - atom_wanted_m9['O1'].x\n",
    "t1[1] = atom_wanted['ND2'].y - atom_wanted_m9['O1'].y\n",
    "t1[2] = atom_wanted['ND2'].z - atom_wanted_m9['O1'].z"
   ]
  },
  {
   "cell_type": "markdown",
   "id": "89e54279-bd9f-424f-bb0b-d69cdb4e8f2c",
   "metadata": {},
   "source": [
    "#### do translation and output PDB"
   ]
  },
  {
   "cell_type": "code",
   "execution_count": 20,
   "id": "205f042c-2fde-47f7-8ccb-feb3cea3a147",
   "metadata": {},
   "outputs": [],
   "source": [
    "atomgroup_after_translation = list()\n",
    "for atom in m9.atomgroup:\n",
    "    atom.x += t1[0]\n",
    "    atom.y += t1[1]\n",
    "    atom.z += t1[2]\n",
    "    atomgroup_after_translation.append(atom)"
   ]
  },
  {
   "cell_type": "code",
   "execution_count": 21,
   "id": "e7794929-ac24-46ec-b06f-47470f1efe74",
   "metadata": {},
   "outputs": [
    {
     "name": "stdout",
     "output_type": "stream",
     "text": [
      "Write PDB: /home/yizaochen/codes/glycantest/glycan/man9.after_translation.pdb\n"
     ]
    }
   ],
   "source": [
    "pdb_out = path.join(rootfolder, 'glycan', 'man9.after_translation.pdb')\n",
    "m9_after_translation = PDB.PDBWriter(pdb_out, atomgroup_after_translation)\n",
    "m9_after_translation.write_pdb()"
   ]
  },
  {
   "cell_type": "markdown",
   "id": "dcb72275-dd51-4013-8a4c-a865b76da888",
   "metadata": {},
   "source": [
    "#### Merge"
   ]
  },
  {
   "cell_type": "code",
   "execution_count": 22,
   "id": "38538e3f-3b57-41bd-a2c5-59c98d096ccd",
   "metadata": {},
   "outputs": [
    {
     "name": "stdout",
     "output_type": "stream",
     "text": [
      "Write PDB: /home/yizaochen/codes/glycantest/glycan/mers_a_5x59.merge_trans.pdb\n",
      "vmd -pdb /home/yizaochen/codes/glycantest/glycan/mers_a_5x59.merge_trans.pdb\n"
     ]
    }
   ],
   "source": [
    "pdb_mers_a = path.join(rootfolder, 'glycan', 'mers_a_5x59.pdb')\n",
    "mers_a = PDB.PDBReader(pdb_mers_a, skip_header=1, skip_footer=1, segid_exist=True)\n",
    "\n",
    "pdb_m9_after_trans = path.join(rootfolder, 'glycan', 'man9.after_translation.pdb')\n",
    "m9_after_trans = PDB.PDBReader(pdb_m9_after_trans, skip_header=1, skip_footer=1, segid_exist=True)\n",
    "\n",
    "atomgroup_out = mers_a.atomgroup + m9_after_trans.atomgroup\n",
    "pdb_out = path.join(rootfolder, 'glycan', 'mers_a_5x59.merge_trans.pdb')\n",
    "merge_writer = PDB.PDBWriter(pdb_out, atomgroup_out)\n",
    "merge_writer.write_pdb()\n",
    "print(f'vmd -pdb {pdb_out}')"
   ]
  },
  {
   "cell_type": "markdown",
   "id": "897235e5-63ef-477f-815a-5d5da3d53e8f",
   "metadata": {},
   "source": [
    "### Part 4-1: After merge, translate ND2 to (0,0,0)\n",
    "#### Define $\\vec{t}_2 = -\\vec{r}_{\\mathrm{ND2}}$"
   ]
  },
  {
   "cell_type": "code",
   "execution_count": 34,
   "id": "ae72c00b-7c20-42ee-ac67-b8ade10255a5",
   "metadata": {},
   "outputs": [],
   "source": [
    "pdb_merge_after_trans = path.join(rootfolder, 'glycan', 'mers_a_5x59.merge_trans.pdb')\n",
    "merge_after_trans = PDB.PDBReader(pdb_merge_after_trans, skip_header=1, skip_footer=1, segid_exist=True)"
   ]
  },
  {
   "cell_type": "code",
   "execution_count": 35,
   "id": "15615a64-77b4-43a0-8de5-fb8bbbb4271f",
   "metadata": {},
   "outputs": [
    {
     "data": {
      "text/plain": [
       "{'ND2': x: 19.605  y: -29.712  z: 0.196}"
      ]
     },
     "execution_count": 35,
     "metadata": {},
     "output_type": "execute_result"
    }
   ],
   "source": [
    "atom_wanted = dict()\n",
    "for atom in merge_after_trans.atomgroup:\n",
    "    if (atom.resid == 50) & (atom.resname == 'ASN') & (atom.name == 'ND2'):\n",
    "        atom_wanted['ND2'] = atom\n",
    "atom_wanted      "
   ]
  },
  {
   "cell_type": "code",
   "execution_count": 36,
   "id": "b7e3ff66-5719-4152-ab97-03ce6105ee0a",
   "metadata": {},
   "outputs": [],
   "source": [
    "t2 = np.zeros(3)\n",
    "t2[0] = -atom_wanted['ND2'].x\n",
    "t2[1] = -atom_wanted['ND2'].y\n",
    "t2[2] = -atom_wanted['ND2'].z"
   ]
  },
  {
   "cell_type": "markdown",
   "id": "e67298e0-bb79-4e1b-bcd4-f42e60ec498e",
   "metadata": {},
   "source": [
    "#### Do Translation"
   ]
  },
  {
   "cell_type": "code",
   "execution_count": 37,
   "id": "2c62e8a2-4ad5-4f52-8f42-b6835d6306a1",
   "metadata": {},
   "outputs": [],
   "source": [
    "atomgroup_after_translation = list()\n",
    "for atom in merge_after_trans.atomgroup:\n",
    "    atom.x += t2[0]\n",
    "    atom.y += t2[1]\n",
    "    atom.z += t2[2]\n",
    "    atomgroup_after_translation.append(atom)"
   ]
  },
  {
   "cell_type": "markdown",
   "id": "f03ff2d8-cf6f-4d87-87a0-469e74e2e283",
   "metadata": {},
   "source": [
    "#### Output PDB"
   ]
  },
  {
   "cell_type": "code",
   "execution_count": 38,
   "id": "5cc761a0-4db7-479f-a9be-c0547f893683",
   "metadata": {},
   "outputs": [
    {
     "name": "stdout",
     "output_type": "stream",
     "text": [
      "Write PDB: /home/yizaochen/codes/glycantest/glycan/merge.nd2.to.origin.pdb\n",
      "vmd -pdb /home/yizaochen/codes/glycantest/glycan/merge.nd2.to.origin.pdb\n"
     ]
    }
   ],
   "source": [
    "pdb_out = path.join(rootfolder, 'glycan', 'merge.nd2.to.origin.pdb')\n",
    "merge_after_translation = PDB.PDBWriter(pdb_out, atomgroup_after_translation)\n",
    "merge_after_translation.write_pdb()\n",
    "print(f'vmd -pdb {pdb_out}')"
   ]
  },
  {
   "cell_type": "markdown",
   "id": "0eb68227-d1b0-4cd1-9cdc-56dfb9ba4fdb",
   "metadata": {},
   "source": [
    "### Part 4-2: Define $\\vec{v}_3 =  \\vec{r}_{\\mathrm{C1}} - \\vec{r}_{\\mathrm{ND2}}$ "
   ]
  },
  {
   "cell_type": "code",
   "execution_count": 40,
   "id": "f3cb3984-964b-463a-87af-feca40809fcb",
   "metadata": {},
   "outputs": [],
   "source": [
    "pdb_merge_nd2_origin = path.join(rootfolder, 'glycan', 'merge.nd2.to.origin.pdb')\n",
    "merge_nd2_origin = PDB.PDBReader(pdb_merge_nd2_origin, skip_header=1, skip_footer=1, segid_exist=True)"
   ]
  },
  {
   "cell_type": "code",
   "execution_count": 41,
   "id": "9a8dcc0f-c4c3-4ac3-8aae-de38d6c5fa95",
   "metadata": {},
   "outputs": [
    {
     "data": {
      "text/plain": [
       "{'ND2': x: 0.000  y: 0.000  z: 0.000, 'C1': x: 0.474  y: -1.304  z: -0.346}"
      ]
     },
     "execution_count": 41,
     "metadata": {},
     "output_type": "execute_result"
    }
   ],
   "source": [
    "atom_wanted = dict()\n",
    "for atom in merge_nd2_origin.atomgroup:\n",
    "    if (atom.resid == 50) & (atom.resname == 'ASN') & (atom.name == 'ND2'):\n",
    "        atom_wanted['ND2'] = atom\n",
    "    elif (atom.resid == 2) & (atom.resname == '4YB') & (atom.name == 'C1'):\n",
    "        atom_wanted['C1'] = atom\n",
    "atom_wanted"
   ]
  },
  {
   "cell_type": "code",
   "execution_count": 42,
   "id": "6640c287-d666-41b3-8e11-89f8b07a741b",
   "metadata": {},
   "outputs": [],
   "source": [
    "v3 = np.zeros(3)\n",
    "v3[0] = atom_wanted['C1'].x - atom_wanted['ND2'].x\n",
    "v3[1] = atom_wanted['C1'].y - atom_wanted['ND2'].y\n",
    "v3[2] = atom_wanted['C1'].z - atom_wanted['ND2'].z"
   ]
  },
  {
   "cell_type": "code",
   "execution_count": 45,
   "id": "506858b7-565f-415b-b1f6-81030f9bd010",
   "metadata": {},
   "outputs": [
    {
     "data": {
      "text/plain": [
       "array([[ 0.8550514 ,  0.39876155, -0.33147599],\n",
       "       [ 0.39876155, -0.09701489,  0.91190863],\n",
       "       [ 0.33147599, -0.91190863, -0.24196348]])"
      ]
     },
     "execution_count": 45,
     "metadata": {},
     "output_type": "execute_result"
    }
   ],
   "source": [
    "# Build Rotation Matrix\n",
    "vector_orig = v3\n",
    "vector_fin = np.array([0.,0.,1.])\n",
    "rot_mat = rotation.rotation_mat_between_2vect(vector_orig, vector_fin)\n",
    "rot_mat"
   ]
  },
  {
   "cell_type": "code",
   "execution_count": 47,
   "id": "02070e6d-4617-4950-937b-0764081663dc",
   "metadata": {},
   "outputs": [],
   "source": [
    "# Do rotation\n",
    "atomgroup_align_z = rotation.rotate_all_atoms_given_atomgroups(rot_mat, merge_nd2_origin.atomgroup)"
   ]
  },
  {
   "cell_type": "code",
   "execution_count": 48,
   "id": "2c94d1fb-154d-49eb-ae90-09776a850f1b",
   "metadata": {},
   "outputs": [
    {
     "name": "stdout",
     "output_type": "stream",
     "text": [
      "Write PDB: /home/yizaochen/codes/glycantest/glycan/merge.align.z.pdb\n",
      "vmd -pdb /home/yizaochen/codes/glycantest/glycan/merge.align.z.pdb\n"
     ]
    }
   ],
   "source": [
    "# Output PDB\n",
    "pdb_out = path.join(rootfolder, 'glycan', 'merge.align.z.pdb')\n",
    "align_z = PDB.PDBWriter(pdb_out, atomgroup_align_z)\n",
    "align_z.write_pdb()\n",
    "print(f'vmd -pdb {pdb_out}')"
   ]
  },
  {
   "cell_type": "markdown",
   "id": "a20fd7de-99b0-418f-bc95-944443372373",
   "metadata": {},
   "source": [
    "### Part 5: Rotation\n",
    "- ![](../images/pic3.png)"
   ]
  },
  {
   "cell_type": "code",
   "execution_count": 49,
   "id": "425e6d56-60b0-4623-b3df-a2373a7a71e3",
   "metadata": {},
   "outputs": [],
   "source": [
    "# Read PDB\n",
    "pdb_align_z = path.join(rootfolder, 'glycan', 'merge.align.z.pdb')\n",
    "align_z = PDB.PDBReader(pdb_align_z, skip_header=1, skip_footer=1, segid_exist=True)"
   ]
  },
  {
   "cell_type": "code",
   "execution_count": 53,
   "id": "68d997c2-4af5-4ac0-aa49-654de0b317dd",
   "metadata": {},
   "outputs": [
    {
     "data": {
      "text/plain": [
       "[[0.7071067811865476, -0.7071067811865475, 0],\n",
       " [0.7071067811865475, 0.7071067811865476, 0],\n",
       " [0, 0, 1]]"
      ]
     },
     "execution_count": 53,
     "metadata": {},
     "output_type": "execute_result"
    }
   ],
   "source": [
    "# Get Rotation Matrix\n",
    "angle_degree = 45 # degree\n",
    "axis = 'z' # 'x', 'y', 'z'\n",
    "\n",
    "angle_rad = np.deg2rad(angle_degree)\n",
    "rot_mat = rotation.get_rotation_matrix(angle_rad, axis)\n",
    "rot_mat"
   ]
  },
  {
   "cell_type": "code",
   "execution_count": 56,
   "id": "50556fd4-3242-4ef6-afd3-5995fecfa8ff",
   "metadata": {},
   "outputs": [],
   "source": [
    "# Extract Sugar atomgroup\n",
    "sugar_atomgroup = list()\n",
    "protein_atomgroup = list()\n",
    "for atom in align_z.atomgroup:\n",
    "    if atom.segid == 'M9XX':\n",
    "        sugar_atomgroup.append(atom)\n",
    "    elif atom.segid == 'SUBA':\n",
    "        protein_atomgroup.append(atom)"
   ]
  },
  {
   "cell_type": "code",
   "execution_count": 57,
   "id": "34872716-6e8a-4dbd-9ed5-671e294ed257",
   "metadata": {},
   "outputs": [],
   "source": [
    "# Do rotation\n",
    "sugar_atomgroup = rotation.rotate_all_atoms_given_atomgroups(rot_mat, sugar_atomgroup)"
   ]
  },
  {
   "cell_type": "code",
   "execution_count": 58,
   "id": "ca68f7ba-fbe3-4def-b651-044957b9e132",
   "metadata": {},
   "outputs": [
    {
     "name": "stdout",
     "output_type": "stream",
     "text": [
      "Write PDB: /home/yizaochen/codes/glycantest/glycan/merge.after_rotation.pdb\n",
      "vmd -pdb /home/yizaochen/codes/glycantest/glycan/merge.after_rotation.pdb\n"
     ]
    }
   ],
   "source": [
    "# Merge and output\n",
    "all_atomgroup = protein_atomgroup + sugar_atomgroup\n",
    "pdb_out = path.join(rootfolder, 'glycan', 'merge.after_rotation.pdb')\n",
    "after_rot = PDB.PDBWriter(pdb_out, all_atomgroup)\n",
    "after_rot.write_pdb()\n",
    "print(f'vmd -pdb {pdb_out}')"
   ]
  },
  {
   "cell_type": "markdown",
   "id": "66254fdc-de3e-4a60-aed6-307e5ec1aee1",
   "metadata": {},
   "source": [
    "### Required Functions"
   ]
  },
  {
   "cell_type": "code",
   "execution_count": 43,
   "id": "f2f82096-8fd8-468b-9432-9ff64bc057b0",
   "metadata": {},
   "outputs": [],
   "source": [
    "def rotation_mat_between_2vect(vector_orig, vector_fin):\n",
    "    \"\"\"Calculate the rotation matrix required to rotate from one vector to another.\n",
    "    For the rotation of one vector to another, there are an infinit series of rotation matrices\n",
    "    possible.  Due to axially symmetry, the rotation axis can be any vector lying in the symmetry\n",
    "    plane between the two vectors.  Hence the axis-angle convention will be used to construct the\n",
    "    matrix with the rotation axis defined as the cross product of the two vectors.  The rotation\n",
    "    angle is the arccosine of the dot product of the two unit vectors.\n",
    "    Given a unit vector parallel to the rotation axis, w = [x, y, z] and the rotation angle a,\n",
    "    the rotation matrix R is::\n",
    "              |  1 + (1-cos(a))*(x*x-1)   -z*sin(a)+(1-cos(a))*x*y   y*sin(a)+(1-cos(a))*x*z |\n",
    "        R  =  |  z*sin(a)+(1-cos(a))*x*y   1 + (1-cos(a))*(y*y-1)   -x*sin(a)+(1-cos(a))*y*z |\n",
    "              | -y*sin(a)+(1-cos(a))*x*z   x*sin(a)+(1-cos(a))*y*z   1 + (1-cos(a))*(z*z-1)  |\n",
    "    @param vector_orig: The unrotated vector defined in the reference frame.\n",
    "    @type vector_orig:  numpy array, len 3\n",
    "    @param vector_fin:  The rotated vector defined in the reference frame.\n",
    "    @type vector_fin:   numpy array, len 3\n",
    "    \"\"\"\n",
    "\n",
    "    # Convert the vectors to unit vectors.\n",
    "    vector_orig = vector_orig / np.linalg.norm(vector_orig)\n",
    "    vector_fin = vector_fin / np.linalg.norm(vector_fin)\n",
    "\n",
    "    # The rotation axis (normalised).\n",
    "    axis = np.cross(vector_orig, vector_fin)\n",
    "    axis_len = np.linalg.norm(axis)\n",
    "    if axis_len != 0.0:\n",
    "        axis = axis / axis_len\n",
    "\n",
    "    # Alias the axis coordinates.\n",
    "    x = axis[0]\n",
    "    y = axis[1]\n",
    "    z = axis[2]\n",
    "\n",
    "    # The rotation angle.\n",
    "    angle = np.arccos(np.dot(vector_orig, vector_fin))\n",
    "\n",
    "    # Trig functions (only need to do this maths once!).\n",
    "    ca = np.cos(angle)\n",
    "    sa = np.sin(angle)\n",
    "\n",
    "    # Initialize Rotation Matrix\n",
    "    rot_mat = np.zeros((3, 3))\n",
    "\n",
    "    # Calculate the rotation matrix elements.\n",
    "    rot_mat[0, 0] = 1.0 + (1.0 - ca)*(x**2 - 1.0)\n",
    "    rot_mat[0, 1] = -z*sa + (1.0 - ca)*x*y\n",
    "    rot_mat[0, 2] = y*sa + (1.0 - ca)*x*z\n",
    "    rot_mat[1, 0] = z*sa+(1.0 - ca)*x*y\n",
    "    rot_mat[1, 1] = 1.0 + (1.0 - ca)*(y**2 - 1.0)\n",
    "    rot_mat[1, 2] = -x*sa+(1.0 - ca)*y*z\n",
    "    rot_mat[2, 0] = -y*sa+(1.0 - ca)*x*z\n",
    "    rot_mat[2, 1] = x*sa+(1.0 - ca)*y*z\n",
    "    rot_mat[2, 2] = 1.0 + (1.0 - ca)*(z**2 - 1.0)\n",
    "    return rot_mat"
   ]
  },
  {
   "cell_type": "code",
   "execution_count": 46,
   "id": "95a2e265-c678-4cef-92c5-e8e54e752498",
   "metadata": {},
   "outputs": [],
   "source": [
    "def rotate_all_atoms_given_atomgroups(rot_mat, atomgroup):\n",
    "    new_atomgroup = list()\n",
    "    for atom in atomgroup:\n",
    "        temp = np.zeros((3,1))\n",
    "        temp[0,0] = atom.x\n",
    "        temp[1,0] = atom.y\n",
    "        temp[2,0] = atom.z\n",
    "        temp = np.dot(rot_mat,temp)\n",
    "        atom.x = temp[0,0]\n",
    "        atom.y = temp[1,0]\n",
    "        atom.z = temp[2,0]\n",
    "        new_atomgroup.append(atom)\n",
    "    return new_atomgroup"
   ]
  },
  {
   "cell_type": "code",
   "execution_count": 51,
   "id": "0e2be387-4062-4b4e-9dbe-6deb0222bd60",
   "metadata": {},
   "outputs": [],
   "source": [
    "def get_rotation_matrix(angle, axis='x'):\n",
    "    ca = np.cos(angle)\n",
    "    sa = np.sin(angle)\n",
    "    if axis == 'x':\n",
    "        rot_mat = [[1, 0, 0],\n",
    "                   [0, ca, -sa],\n",
    "                   [0, sa, ca]]\n",
    "    elif axis == 'y':\n",
    "        rot_mat = [[ca, 0, sa],\n",
    "                   [0, 1, 0],\n",
    "                   [-sa, 0, ca]]\n",
    "    else:\n",
    "        rot_mat = [[ca, -sa, 0],\n",
    "                   [sa, ca, 0],\n",
    "                   [0, 0, 1]]\n",
    "    return rot_mat"
   ]
  },
  {
   "cell_type": "code",
   "execution_count": null,
   "id": "7d664ff6-15f9-4ee6-a604-22ddc353cc38",
   "metadata": {},
   "outputs": [],
   "source": []
  }
 ],
 "metadata": {
  "kernelspec": {
   "display_name": "Python 3 (ipykernel)",
   "language": "python",
   "name": "python3"
  },
  "language_info": {
   "codemirror_mode": {
    "name": "ipython",
    "version": 3
   },
   "file_extension": ".py",
   "mimetype": "text/x-python",
   "name": "python",
   "nbconvert_exporter": "python",
   "pygments_lexer": "ipython3",
   "version": "3.8.11"
  }
 },
 "nbformat": 4,
 "nbformat_minor": 5
}
