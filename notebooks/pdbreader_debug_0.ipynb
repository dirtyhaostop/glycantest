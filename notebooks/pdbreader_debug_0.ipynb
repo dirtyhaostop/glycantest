{
 "cells": [
  {
   "cell_type": "markdown",
   "id": "ab32cfa9-ac5b-453f-b27a-3957d38c8137",
   "metadata": {},
   "source": [
    "### Part 0:"
   ]
  },
  {
   "cell_type": "code",
   "execution_count": 1,
   "id": "96c513b4-e2fa-42cf-8316-9b931c8ef888",
   "metadata": {},
   "outputs": [],
   "source": [
    "from os import path\n",
    "import numpy as np\n",
    "from scipy.spatial.transform import Rotation\n",
    "from glycantool import PDB\n",
    "rootfolder = '/home/yizaochen/codes/glycantest'"
   ]
  },
  {
   "cell_type": "markdown",
   "id": "c9fecbb9-27a4-46fc-9ce6-bb30e8ed2f16",
   "metadata": {},
   "source": [
    "### Part 1: Read Protein PDB"
   ]
  },
  {
   "cell_type": "code",
   "execution_count": 2,
   "id": "a1872e64-2e70-4071-a145-a5abc646fe8b",
   "metadata": {},
   "outputs": [],
   "source": [
    "pdb_in = path.join(rootfolder, 'glycan', 'mers_a_5x59.pdb')\n",
    "mers_a = PDB.PDBReader(pdb_in, skip_header=1, skip_footer=1, segid_exist=True)"
   ]
  },
  {
   "cell_type": "markdown",
   "id": "b272d1d0-af3c-4bcd-afd8-159a7fd6eeb8",
   "metadata": {},
   "source": [
    "### Part 2: Write Protein PDB"
   ]
  },
  {
   "cell_type": "code",
   "execution_count": 3,
   "id": "3ae27b7d-9982-41d2-a780-2057407ade78",
   "metadata": {},
   "outputs": [
    {
     "name": "stdout",
     "output_type": "stream",
     "text": [
      "Write PDB: /home/yizaochen/codes/glycantest/glycan/mers_a_5x59.rewrite.pdb\n",
      "vmd -pdb /home/yizaochen/codes/glycantest/glycan/mers_a_5x59.rewrite.pdb\n"
     ]
    }
   ],
   "source": [
    "pdb_out = path.join(rootfolder, 'glycan', 'mers_a_5x59.rewrite.pdb')\n",
    "mers_a_out = PDB.PDBWriter(pdb_out, mers_a.atomgroup)\n",
    "mers_a_out.write_pdb()\n",
    "print(f'vmd -pdb {pdb_out}')"
   ]
  },
  {
   "cell_type": "code",
   "execution_count": null,
   "id": "8aab3842-017d-49d1-a1c0-eace6deb5e14",
   "metadata": {},
   "outputs": [],
   "source": []
  }
 ],
 "metadata": {
  "kernelspec": {
   "display_name": "Python 3 (ipykernel)",
   "language": "python",
   "name": "python3"
  },
  "language_info": {
   "codemirror_mode": {
    "name": "ipython",
    "version": 3
   },
   "file_extension": ".py",
   "mimetype": "text/x-python",
   "name": "python",
   "nbconvert_exporter": "python",
   "pygments_lexer": "ipython3",
   "version": "3.8.11"
  }
 },
 "nbformat": 4,
 "nbformat_minor": 5
}
